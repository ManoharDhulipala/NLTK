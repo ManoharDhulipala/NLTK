{
 "cells": [
  {
   "cell_type": "markdown",
   "id": "d7df7e28",
   "metadata": {},
   "source": [
    "# Calling Libraries"
   ]
  },
  {
   "cell_type": "code",
   "execution_count": 8,
   "id": "a264c54d",
   "metadata": {},
   "outputs": [],
   "source": [
    "import nltk\n",
    "from nltk.sentiment import SentimentIntensityAnalyzer\n",
    "from nltk.tokenize import TweetTokenizer, sent_tokenize"
   ]
  },
  {
   "cell_type": "markdown",
   "id": "3cfa2e8d",
   "metadata": {},
   "source": [
    "# Creating Example and Breaking Sentences into Chunks"
   ]
  },
  {
   "cell_type": "code",
   "execution_count": 9,
   "id": "425e2fe2",
   "metadata": {},
   "outputs": [],
   "source": [
    "example = \"\"\"Professor Jones is very nice. He does a great job at lecturing and his exams are fair. \n",
    "One thing that I wish he would do is pause more often because I can't write my notes thoroughly during lecture.\"\"\"\n",
    "tokens = TweetTokenizer()\n",
    "tokens_sentences = [tokens.tokenize(t) for t in nltk.sent_tokenize(example)]"
   ]
  },
  {
   "cell_type": "code",
   "execution_count": 10,
   "id": "d258f13c",
   "metadata": {},
   "outputs": [],
   "source": [
    "joinedSentences = []\n",
    "for sentences in tokens_sentences:\n",
    "    sentences = \" \".join(sentences)\n",
    "    joinedSentences.append(sentences)"
   ]
  },
  {
   "cell_type": "markdown",
   "id": "4fe1300c",
   "metadata": {},
   "source": [
    "# Scanning each Chunk and Determining Type of Comment"
   ]
  },
  {
   "cell_type": "code",
   "execution_count": 11,
   "id": "d0aaeda0",
   "metadata": {},
   "outputs": [],
   "source": [
    "sia = SentimentIntensityAnalyzer()\n",
    "positiveList = []\n",
    "negativeList = []\n",
    "for sentence in joinedSentences:\n",
    "    data = sia.polarity_scores(sentence)\n",
    "    if data[\"pos\"] > 0.3:\n",
    "        positiveList.append(sentence)\n",
    "    else:\n",
    "        negativeList.append(sentence)"
   ]
  },
  {
   "cell_type": "markdown",
   "id": "be85d0c0",
   "metadata": {},
   "source": [
    "# Output"
   ]
  },
  {
   "cell_type": "code",
   "execution_count": 12,
   "id": "897816be",
   "metadata": {},
   "outputs": [
    {
     "name": "stdout",
     "output_type": "stream",
     "text": [
      "Postive Statements:  ['Professor Jones is very nice .', 'He does a great job at lecturing and his exams are fair .']\n",
      "Negative Statements:  [\"One thing that I wish he would do is pause more often because I can't write my notes thoroughly during lecture .\"]\n"
     ]
    }
   ],
   "source": [
    "print(\"Postive Statements: \", positiveList)\n",
    "print(\"Negative Statements: \", negativeList)"
   ]
  }
 ],
 "metadata": {
  "kernelspec": {
   "display_name": "Python 3 (ipykernel)",
   "language": "python",
   "name": "python3"
  },
  "language_info": {
   "codemirror_mode": {
    "name": "ipython",
    "version": 3
   },
   "file_extension": ".py",
   "mimetype": "text/x-python",
   "name": "python",
   "nbconvert_exporter": "python",
   "pygments_lexer": "ipython3",
   "version": "3.10.6"
  }
 },
 "nbformat": 4,
 "nbformat_minor": 5
}
